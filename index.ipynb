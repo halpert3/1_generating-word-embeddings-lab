{
 "cells": [
  {
   "cell_type": "markdown",
   "metadata": {},
   "source": [
    "# Generating Word Embeddings - Lab\n",
    "\n",
    "## Introduction\n",
    "\n",
    "In this lab, you'll learn how to generate word embeddings by training a Word2Vec model, and then embedding layers into deep neural networks for NLP.\n",
    "\n",
    "## Objectives\n",
    "\n",
    "You will be able to:\n",
    "\n",
    "- Train a Word2Vec model and transform words into vectors \n",
    "- Obtain most similar words by using methods associated with word vectors \n",
    "\n",
    "\n",
    "## Getting Started\n",
    "\n",
    "In this lab, you'll start by creating your own word embeddings by making use of the Word2Vec model. Then, you'll move onto building neural networks that make use of **_Embedding Layers_** to accomplish the same end-goal, but directly in your model. \n",
    "\n",
    "As you've seen, the easiest way to make use of Word2Vec is to import it from the [Gensim Library](https://radimrehurek.com/gensim/). This model contains a full implementation of Word2Vec, which you can use to begin training immediately. For this lab, you'll be working with the [News Category Dataset from Kaggle](https://www.kaggle.com/rmisra/news-category-dataset/version/2#_=_).  This dataset contains headlines and article descriptions from the news, as well as categories for which type of article they belong to.\n",
    "\n",
    "Run the cell below to import everything you'll need for this lab. "
   ]
  },
  {
   "cell_type": "code",
   "execution_count": 1,
   "metadata": {},
   "outputs": [],
   "source": [
    "import pandas as pd\n",
    "import numpy as np\n",
    "np.random.seed(0)\n",
    "from gensim.models import Word2Vec\n",
    "from nltk import word_tokenize"
   ]
  },
  {
   "cell_type": "markdown",
   "metadata": {},
   "source": [
    "Now, import the data. The data is stored in the file `'News_Category_Dataset_v2.json'`.  This file is compressed, so that it can be more easily stored in a GitHub repo. **_Make sure to unzip the file before continuing!_**\n",
    "\n",
    "In the cell below, use the `read_json()` function from Pandas to read the dataset into a DataFrame. Be sure to include the parameter `lines=True` when reading in the dataset.  \n",
    "\n",
    "_(That reads the file as a json object per line, which is sort of like a python dictionary.)_\n",
    "\n",
    "Once you've imported the data, inspect the first few rows of the DataFrame to see what your data looks like. "
   ]
  },
  {
   "cell_type": "code",
   "execution_count": 2,
   "metadata": {},
   "outputs": [
    {
     "data": {
      "text/html": [
       "<div>\n",
       "<style scoped>\n",
       "    .dataframe tbody tr th:only-of-type {\n",
       "        vertical-align: middle;\n",
       "    }\n",
       "\n",
       "    .dataframe tbody tr th {\n",
       "        vertical-align: top;\n",
       "    }\n",
       "\n",
       "    .dataframe thead th {\n",
       "        text-align: right;\n",
       "    }\n",
       "</style>\n",
       "<table border=\"1\" class=\"dataframe\">\n",
       "  <thead>\n",
       "    <tr style=\"text-align: right;\">\n",
       "      <th></th>\n",
       "      <th>category</th>\n",
       "      <th>headline</th>\n",
       "      <th>authors</th>\n",
       "      <th>link</th>\n",
       "      <th>short_description</th>\n",
       "      <th>date</th>\n",
       "    </tr>\n",
       "  </thead>\n",
       "  <tbody>\n",
       "    <tr>\n",
       "      <th>0</th>\n",
       "      <td>CRIME</td>\n",
       "      <td>There Were 2 Mass Shootings In Texas Last Week...</td>\n",
       "      <td>Melissa Jeltsen</td>\n",
       "      <td>https://www.huffingtonpost.com/entry/texas-ama...</td>\n",
       "      <td>She left her husband. He killed their children...</td>\n",
       "      <td>2018-05-26</td>\n",
       "    </tr>\n",
       "    <tr>\n",
       "      <th>1</th>\n",
       "      <td>ENTERTAINMENT</td>\n",
       "      <td>Will Smith Joins Diplo And Nicky Jam For The 2...</td>\n",
       "      <td>Andy McDonald</td>\n",
       "      <td>https://www.huffingtonpost.com/entry/will-smit...</td>\n",
       "      <td>Of course it has a song.</td>\n",
       "      <td>2018-05-26</td>\n",
       "    </tr>\n",
       "    <tr>\n",
       "      <th>2</th>\n",
       "      <td>ENTERTAINMENT</td>\n",
       "      <td>Hugh Grant Marries For The First Time At Age 57</td>\n",
       "      <td>Ron Dicker</td>\n",
       "      <td>https://www.huffingtonpost.com/entry/hugh-gran...</td>\n",
       "      <td>The actor and his longtime girlfriend Anna Ebe...</td>\n",
       "      <td>2018-05-26</td>\n",
       "    </tr>\n",
       "    <tr>\n",
       "      <th>3</th>\n",
       "      <td>ENTERTAINMENT</td>\n",
       "      <td>Jim Carrey Blasts 'Castrato' Adam Schiff And D...</td>\n",
       "      <td>Ron Dicker</td>\n",
       "      <td>https://www.huffingtonpost.com/entry/jim-carre...</td>\n",
       "      <td>The actor gives Dems an ass-kicking for not fi...</td>\n",
       "      <td>2018-05-26</td>\n",
       "    </tr>\n",
       "    <tr>\n",
       "      <th>4</th>\n",
       "      <td>ENTERTAINMENT</td>\n",
       "      <td>Julianna Margulies Uses Donald Trump Poop Bags...</td>\n",
       "      <td>Ron Dicker</td>\n",
       "      <td>https://www.huffingtonpost.com/entry/julianna-...</td>\n",
       "      <td>The \"Dietland\" actress said using the bags is ...</td>\n",
       "      <td>2018-05-26</td>\n",
       "    </tr>\n",
       "  </tbody>\n",
       "</table>\n",
       "</div>"
      ],
      "text/plain": [
       "        category                                           headline  \\\n",
       "0          CRIME  There Were 2 Mass Shootings In Texas Last Week...   \n",
       "1  ENTERTAINMENT  Will Smith Joins Diplo And Nicky Jam For The 2...   \n",
       "2  ENTERTAINMENT    Hugh Grant Marries For The First Time At Age 57   \n",
       "3  ENTERTAINMENT  Jim Carrey Blasts 'Castrato' Adam Schiff And D...   \n",
       "4  ENTERTAINMENT  Julianna Margulies Uses Donald Trump Poop Bags...   \n",
       "\n",
       "           authors                                               link  \\\n",
       "0  Melissa Jeltsen  https://www.huffingtonpost.com/entry/texas-ama...   \n",
       "1    Andy McDonald  https://www.huffingtonpost.com/entry/will-smit...   \n",
       "2       Ron Dicker  https://www.huffingtonpost.com/entry/hugh-gran...   \n",
       "3       Ron Dicker  https://www.huffingtonpost.com/entry/jim-carre...   \n",
       "4       Ron Dicker  https://www.huffingtonpost.com/entry/julianna-...   \n",
       "\n",
       "                                   short_description       date  \n",
       "0  She left her husband. He killed their children... 2018-05-26  \n",
       "1                           Of course it has a song. 2018-05-26  \n",
       "2  The actor and his longtime girlfriend Anna Ebe... 2018-05-26  \n",
       "3  The actor gives Dems an ass-kicking for not fi... 2018-05-26  \n",
       "4  The \"Dietland\" actress said using the bags is ... 2018-05-26  "
      ]
     },
     "execution_count": 2,
     "metadata": {},
     "output_type": "execute_result"
    }
   ],
   "source": [
    "df = pd.read_json('News_Category_Dataset_v2.json', lines=True)\n",
    "df.head()"
   ]
  },
  {
   "cell_type": "code",
   "execution_count": 6,
   "metadata": {},
   "outputs": [
    {
     "data": {
      "text/plain": [
       "'There Were 2 Mass Shootings In Texas Last Week, But Only 1 On TV'"
      ]
     },
     "execution_count": 6,
     "metadata": {},
     "output_type": "execute_result"
    }
   ],
   "source": [
    "df.iloc[0]['headline']"
   ]
  },
  {
   "cell_type": "markdown",
   "metadata": {},
   "source": [
    "## Preparing the Data\n",
    "\n",
    "Since you're working with text data, you need to do some basic preprocessing including tokenization. Notice from the data sample that two different columns contain text data -- `headline` and `short_description`. The more text data your Word2Vec model has, the better it will perform. Therefore, you'll want to combine the two columns before tokenizing each comment and training your Word2Vec model. \n",
    "\n",
    "In the cell below:\n",
    "\n",
    "* Create a column called `'combined_text'` that consists of the data from the `'headline'` column plus a space character (`' '`) plus the data from the `'short_description'` column \n",
    "* Use the `'combined_text'` column's `.map()` method and pass in `word_tokenize`. Store the result returned in `data` "
   ]
  },
  {
   "cell_type": "code",
   "execution_count": 7,
   "metadata": {},
   "outputs": [],
   "source": [
    "df['combined_text'] = df['headline'] + ' ' + df['short_description']\n",
    "data = df['combined_text'].map(word_tokenize)"
   ]
  },
  {
   "cell_type": "markdown",
   "metadata": {},
   "source": [
    "Inspect the first 5 items in `data` to see how everything looks. "
   ]
  },
  {
   "cell_type": "code",
   "execution_count": 8,
   "metadata": {},
   "outputs": [
    {
     "data": {
      "text/plain": [
       "0    [There, Were, 2, Mass, Shootings, In, Texas, L...\n",
       "1    [Will, Smith, Joins, Diplo, And, Nicky, Jam, F...\n",
       "2    [Hugh, Grant, Marries, For, The, First, Time, ...\n",
       "3    [Jim, Carrey, Blasts, 'Castrato, ', Adam, Schi...\n",
       "4    [Julianna, Margulies, Uses, Donald, Trump, Poo...\n",
       "Name: combined_text, dtype: object"
      ]
     },
     "execution_count": 8,
     "metadata": {},
     "output_type": "execute_result"
    }
   ],
   "source": [
    "data[:5]"
   ]
  },
  {
   "cell_type": "code",
   "execution_count": 11,
   "metadata": {},
   "outputs": [
    {
     "data": {
      "text/plain": [
       "'She left her husband. He killed their children. Just another day in America.'"
      ]
     },
     "execution_count": 11,
     "metadata": {},
     "output_type": "execute_result"
    }
   ],
   "source": [
    "df.iloc[0]['short_description']"
   ]
  },
  {
   "cell_type": "code",
   "execution_count": 10,
   "metadata": {},
   "outputs": [
    {
     "name": "stdout",
     "output_type": "stream",
     "text": [
      "['There', 'Were', '2', 'Mass', 'Shootings', 'In', 'Texas', 'Last', 'Week', ',', 'But', 'Only', '1', 'On', 'TV', 'She', 'left', 'her', 'husband', '.', 'He', 'killed', 'their', 'children', '.', 'Just', 'another', 'day', 'in', 'America', '.']\n"
     ]
    }
   ],
   "source": [
    "print(data[0])"
   ]
  },
  {
   "cell_type": "markdown",
   "metadata": {},
   "source": [
    "Notice that although the words are tokenized, they are still in the same order they were in as headlines. This is important, because the words need to be in their original order for Word2Vec to establish the meaning of them. Remember that for a Word2Vec model you can specify a  **_Window Size_** that tells the model how many words to take into consideration at one time. \n",
    "\n",
    "If your window size was 5, then the model would start by looking at the words \"Will Smith joins Diplo and\", and then slide the window by one, so that it's looking at \"Smith joins Diplo and Nicky\", and so on, until it had completely processed the text example at index 1 above. By doing this for every piece of text in the entire dataset, the Word2Vec model learns excellent vector representations for each word in an **_Embedding Space_**, where the relationships between vectors capture semantic meaning. (Recall the vector that captures gender in the previous \"king - man + woman = queen\" example you saw.)\n",
    "\n",
    "Now that you've prepared the data, train your model and explore a bit!\n",
    "\n",
    "## Training the Model\n",
    "\n",
    "Start by instantiating a Word2Vec Model from `gensim`. \n",
    "\n",
    "In the cell below:\n",
    "\n",
    "* Create a `Word2Vec` model and pass in the following arguments:\n",
    "    * The dataset we'll be training on, `data`\n",
    "    * The size of the word vectors to create, `size=100`\n",
    "    * The window size, `window=5`\n",
    "    * The minimum number of times a word needs to appear in order to be counted in  the model, `min_count=1` \n",
    "    * The number of threads to use during training, `workers=4`"
   ]
  },
  {
   "cell_type": "code",
   "execution_count": 12,
   "metadata": {},
   "outputs": [],
   "source": [
    "model = Word2Vec(data, size=100, window=5, min_count=1, workers=4)"
   ]
  },
  {
   "cell_type": "code",
   "execution_count": 13,
   "metadata": {},
   "outputs": [
    {
     "data": {
      "text/plain": [
       "<gensim.models.word2vec.Word2Vec at 0x26f823b6f28>"
      ]
     },
     "execution_count": 13,
     "metadata": {},
     "output_type": "execute_result"
    }
   ],
   "source": [
    "model"
   ]
  },
  {
   "cell_type": "markdown",
   "metadata": {},
   "source": [
    "Now, that you've instantiated Word2Vec model, train it on your text data. \n",
    "\n",
    "In the cell below:\n",
    "\n",
    "* Call the `.train()` method on your model and pass in the following parameters:\n",
    "    * The dataset we'll be training on, `data`\n",
    "    * The `total_examples`  of sentences in the dataset, which you can find in `model.corpus_count` \n",
    "    * The number of `epochs` you want to train for, which we'll set to `10`"
   ]
  },
  {
   "cell_type": "code",
   "execution_count": 14,
   "metadata": {},
   "outputs": [
    {
     "data": {
      "text/plain": [
       "(55559850, 67352790)"
      ]
     },
     "execution_count": 14,
     "metadata": {},
     "output_type": "execute_result"
    }
   ],
   "source": [
    "model.train(data, total_examples=model.corpus_count, epochs=10)"
   ]
  },
  {
   "cell_type": "markdown",
   "metadata": {},
   "source": [
    "You now have a fully trained model. The word vectors themselves are stored in the `Word2VecKeyedVectors` instance, which is stored in the `.wv` attribute. To simplify this, restore this object inside of the variable `wv` to save yourself some keystrokes down the line. "
   ]
  },
  {
   "cell_type": "code",
   "execution_count": 15,
   "metadata": {},
   "outputs": [],
   "source": [
    "wv = model.wv"
   ]
  },
  {
   "cell_type": "code",
   "execution_count": 16,
   "metadata": {},
   "outputs": [
    {
     "data": {
      "text/plain": [
       "<gensim.models.keyedvectors.Word2VecKeyedVectors at 0x26f823b6fd0>"
      ]
     },
     "execution_count": 16,
     "metadata": {},
     "output_type": "execute_result"
    }
   ],
   "source": [
    "wv"
   ]
  },
  {
   "cell_type": "markdown",
   "metadata": {},
   "source": [
    "## Examining Your Word Vectors\n",
    "\n",
    "Now that you have a trained Word2Vec model, go ahead and explore the relationships between some of the words in the corpus! \n",
    "\n",
    "One cool thing you can use Word2Vec for is to get the most similar words to a given word. You can do this by passing in the word to `wv.most_similar()`. \n",
    "\n",
    "In the cell below, try getting the most similar word to `'Texas'`."
   ]
  },
  {
   "cell_type": "code",
   "execution_count": 17,
   "metadata": {},
   "outputs": [
    {
     "data": {
      "text/plain": [
       "[('Maryland', 0.8148529529571533),\n",
       " ('Oregon', 0.8126574754714966),\n",
       " ('Louisiana', 0.8102370500564575),\n",
       " ('Pennsylvania', 0.807714581489563),\n",
       " ('Ohio', 0.797522783279419),\n",
       " ('Illinois', 0.7918755412101746),\n",
       " ('Massachusetts', 0.7782467007637024),\n",
       " ('Georgia', 0.7754024267196655),\n",
       " ('Utah', 0.7741360664367676),\n",
       " ('Connecticut', 0.7730348110198975)]"
      ]
     },
     "execution_count": 17,
     "metadata": {},
     "output_type": "execute_result"
    }
   ],
   "source": [
    "wv.most_similar('Texas')"
   ]
  },
  {
   "cell_type": "markdown",
   "metadata": {},
   "source": [
    "Interesting! All of the most similar words are also states. \n",
    "\n",
    "You can also get the least similar vectors to a given word by passing in the word to the `.most_similar()` method's `negative` parameter. \n",
    "\n",
    "In the cell below, get the least similar words to `'Texas'`."
   ]
  },
  {
   "cell_type": "code",
   "execution_count": 23,
   "metadata": {},
   "outputs": [
    {
     "data": {
      "text/plain": [
       "[('Ex-Lions', 0.3945348560810089),\n",
       " ('UIUC', 0.39108070731163025),\n",
       " ('Burned-Out', 0.3832785487174988),\n",
       " ('Candidate\\u200b', 0.3832732141017914),\n",
       " ('much-vaunted', 0.37437042593955994),\n",
       " ('Slammers', 0.3642950654029846),\n",
       " ('Goshen', 0.36173778772354126),\n",
       " ('Forty-two', 0.3599264621734619),\n",
       " ('once-reliable', 0.3592078685760498),\n",
       " ('Shukri', 0.35782963037490845)]"
      ]
     },
     "execution_count": 23,
     "metadata": {},
     "output_type": "execute_result"
    }
   ],
   "source": [
    "wv.most_similar(negative='Texas')"
   ]
  },
  {
   "cell_type": "markdown",
   "metadata": {},
   "source": [
    "This seems like random noise. It is a result of the way Word2Vec is computing the similarity between word vectors in the embedding space. Although the word vectors closest to a given word vector are almost certainly going to have similar meaning or connotation with your given word, the word vectors that the model considers 'least similar' are just the word vectors that are farthest away, or have the lowest cosine similarity. It's important to understand that while the closest vectors in the embedding space will almost certainly share some level of semantic meaning with a given word, there is no guarantee that this relationship will hold at large distances. \n",
    "\n",
    "You can also get the vector for a given word by passing in the word as if you were passing in a key to a dictionary. \n",
    "\n",
    "In the cell below, get the word vector for `'Texas'`."
   ]
  },
  {
   "cell_type": "code",
   "execution_count": 24,
   "metadata": {},
   "outputs": [
    {
     "data": {
      "text/plain": [
       "array([-0.01008051, -0.04939622, -0.18387356,  2.362733  ,  2.5945241 ,\n",
       "        1.3842751 ,  0.75162745,  0.2523451 ,  0.30583328, -0.5702065 ,\n",
       "        1.010804  ,  0.7003026 ,  0.51031774, -0.8584577 ,  1.7123486 ,\n",
       "        0.18131645, -1.7068068 , -0.4708611 ,  0.16506505,  0.29589105,\n",
       "       -0.44351357, -1.2827014 , -0.6734111 , -4.1679144 , -1.4951457 ,\n",
       "        2.214604  ,  1.7472752 ,  1.0190467 , -0.7366969 , -0.9463645 ,\n",
       "       -0.58780426,  1.7008772 ,  0.8386665 , -0.7453525 ,  0.28591907,\n",
       "       -0.06794878,  0.8195547 , -1.5776565 ,  0.3745885 , -1.1449358 ,\n",
       "       -3.4114687 ,  1.6740084 , -1.9585837 , -0.43235153, -0.4830767 ,\n",
       "       -0.8236001 ,  0.82068914,  1.7808495 , -2.7076213 , -0.7448797 ,\n",
       "        2.7728922 ,  0.6353963 ,  1.4154469 ,  1.3091434 ,  0.60355633,\n",
       "       -1.7477586 ,  0.355193  ,  2.4980412 , -1.0229912 ,  0.58154076,\n",
       "       -0.22886246, -0.17140596,  0.46107382,  0.800218  ,  1.3385193 ,\n",
       "       -0.6184762 , -0.9735849 , -2.6256394 ,  1.0363237 , -0.64127564,\n",
       "       -1.9866377 ,  0.00636407, -2.9375634 , -0.56431043,  0.55686086,\n",
       "        1.4647158 , -1.2665424 ,  1.2358105 , -0.01912752, -1.7690854 ,\n",
       "        1.0644869 , -0.8096559 , -0.15299259, -1.0179191 ,  0.1246188 ,\n",
       "        1.03832   ,  1.2085518 , -0.8635966 , -0.65842825,  0.36174524,\n",
       "       -3.933059  ,  1.3418815 ,  0.36560997,  1.6879084 , -0.5408128 ,\n",
       "       -0.59673387, -0.9443329 , -0.05695301, -0.38454258,  0.31109247],\n",
       "      dtype=float32)"
      ]
     },
     "execution_count": 24,
     "metadata": {},
     "output_type": "execute_result"
    }
   ],
   "source": [
    "wv['Texas']"
   ]
  },
  {
   "cell_type": "markdown",
   "metadata": {},
   "source": [
    "Now get all of the word vectors from the object at once. You can find these inside of `wv.vectors`. Try it out in the cell below.  "
   ]
  },
  {
   "cell_type": "code",
   "execution_count": 25,
   "metadata": {},
   "outputs": [
    {
     "data": {
      "text/plain": [
       "array([[ 8.7105018e-01, -1.6855315e+00, -3.9493528e-01, ...,\n",
       "        -3.1490833e-01,  6.1760354e-01,  3.9646167e-01],\n",
       "       [ 5.8410519e-01, -2.2894301e+00, -2.6655018e+00, ...,\n",
       "        -1.0850933e+00,  1.4401900e+00,  8.6737436e-01],\n",
       "       [ 8.9663810e-01, -9.0202438e-03, -3.2866502e-01, ...,\n",
       "        -1.1930332e+00,  6.5505612e-01,  6.0997236e-01],\n",
       "       ...,\n",
       "       [-2.3102259e-02,  3.8064984e-03,  5.5694267e-02, ...,\n",
       "        -6.1475441e-02,  2.8279604e-02, -4.2734172e-02],\n",
       "       [ 2.0295959e-02, -3.0829692e-02, -4.7054023e-02, ...,\n",
       "         4.3347839e-02, -2.9591892e-02,  3.0631069e-03],\n",
       "       [-2.0461474e-03,  3.6281154e-02,  4.7097381e-02, ...,\n",
       "        -5.5553094e-02, -6.1226770e-02, -5.3066430e-03]], dtype=float32)"
      ]
     },
     "execution_count": 25,
     "metadata": {},
     "output_type": "execute_result"
    }
   ],
   "source": [
    "wv.vectors"
   ]
  },
  {
   "cell_type": "markdown",
   "metadata": {},
   "source": [
    "As a final exercise, try to recreate the _'king' - 'man' + 'woman' = 'queen'_ example previously mentioned. You can do this by using the `.most_similar()` method and translating the word analogies into an addition/subtraction formulation (as shown above). Pass the original comparison, which you are calculating a difference between, to the negative parameter, and the analogous starter you want to apply the same transformation to, to the `positive` parameter.\n",
    "\n",
    "Do this now in the cell below. "
   ]
  },
  {
   "cell_type": "code",
   "execution_count": 26,
   "metadata": {},
   "outputs": [
    {
     "data": {
      "text/plain": [
       "[('princess', 0.6438452005386353),\n",
       " ('revival', 0.6149214506149292),\n",
       " ('queen', 0.5764859318733215),\n",
       " ('goddess', 0.5744208693504333),\n",
       " ('lover', 0.5708333253860474),\n",
       " ('reminiscent', 0.569614052772522),\n",
       " ('diva', 0.5690219402313232),\n",
       " ('title', 0.5645473003387451),\n",
       " ('epitome', 0.5589678883552551),\n",
       " ('theme', 0.5552224516868591)]"
      ]
     },
     "execution_count": 26,
     "metadata": {},
     "output_type": "execute_result"
    }
   ],
   "source": [
    "wv.most_similar(positive=['king', 'woman'], negative=['man'])"
   ]
  },
  {
   "cell_type": "markdown",
   "metadata": {},
   "source": [
    "As you can see from the output above, your model isn't perfect, but 'Queen' and 'Princess' are still in the top 5. As you can see from the other word in top 5, 'reminiscent' -- your model is far from perfect. This is likely because you didn't have enough training data. That said, given the small amount of training data provided, the model still performs remarkably well! \n",
    "\n",
    "In the next lab, you'll reinvestigate transfer learning, loading in the weights from an open-sourced model that has already been trained for a very long time on a massive amount of data. Specifically, you'll work with the GloVe model from the Stanford NLP Group. There's not really any benefit from training the model ourselves, unless your text uses different, specialized vocabulary that isn't likely to be well represented inside an open-source model.\n",
    "\n",
    "## Summary\n",
    "\n",
    "In this lab, you learned how to train and use a Word2Vec model to create vectorized word embeddings!"
   ]
  },
  {
   "cell_type": "markdown",
   "metadata": {},
   "source": [
    "# Playing Around"
   ]
  },
  {
   "cell_type": "code",
   "execution_count": 31,
   "metadata": {},
   "outputs": [
    {
     "data": {
      "text/plain": [
       "[('jacket', 0.8403527736663818),\n",
       " ('matching', 0.8026828765869141),\n",
       " ('purple', 0.801343560218811),\n",
       " ('pink', 0.797351598739624),\n",
       " ('yellow', 0.797154426574707),\n",
       " ('pastel', 0.7912561893463135),\n",
       " ('fur', 0.7906641960144043),\n",
       " ('velvet', 0.7822037935256958),\n",
       " ('shirts', 0.7802686095237732),\n",
       " ('lipstick', 0.7772921323776245)]"
      ]
     },
     "execution_count": 31,
     "metadata": {},
     "output_type": "execute_result"
    }
   ],
   "source": [
    "wv.most_similar('leather')"
   ]
  },
  {
   "cell_type": "code",
   "execution_count": 28,
   "metadata": {},
   "outputs": [
    {
     "data": {
      "text/plain": [
       "[('leather', 0.7555139064788818),\n",
       " ('yellow', 0.7404510974884033),\n",
       " ('jacket', 0.7381378412246704),\n",
       " ('purple', 0.7366889119148254),\n",
       " ('jewelry', 0.7336482405662537),\n",
       " ('pink', 0.7315825819969177),\n",
       " ('orange', 0.7267385125160217),\n",
       " ('mini', 0.719245195388794),\n",
       " ('stone', 0.7154918313026428),\n",
       " ('palette', 0.7080853581428528)]"
      ]
     },
     "execution_count": 28,
     "metadata": {},
     "output_type": "execute_result"
    }
   ],
   "source": [
    "wv.most_similar('flower')"
   ]
  },
  {
   "cell_type": "code",
   "execution_count": 34,
   "metadata": {},
   "outputs": [
    {
     "data": {
      "text/plain": [
       "[('scent', 0.7001819610595703),\n",
       " ('yellow', 0.6969966888427734),\n",
       " ('ribbon', 0.6941667795181274),\n",
       " ('sweater', 0.6710581183433533),\n",
       " ('mask', 0.6658969521522522),\n",
       " ('bottle', 0.6628925204277039),\n",
       " ('pink', 0.6623189449310303),\n",
       " ('stone', 0.6568228006362915),\n",
       " ('pig', 0.6534896492958069),\n",
       " ('jacket', 0.6521004438400269)]"
      ]
     },
     "execution_count": 34,
     "metadata": {},
     "output_type": "execute_result"
    }
   ],
   "source": [
    "wv.most_similar(positive=['beast', 'flower'])"
   ]
  },
  {
   "cell_type": "code",
   "execution_count": 37,
   "metadata": {},
   "outputs": [
    {
     "data": {
      "text/plain": [
       "[('flower', 0.6717434525489807),\n",
       " ('pink', 0.669437050819397),\n",
       " ('diamond', 0.6685705184936523),\n",
       " ('gold', 0.6661815643310547),\n",
       " ('sweater', 0.6636810898780823),\n",
       " ('pair', 0.6549100875854492),\n",
       " ('clutch', 0.6432092189788818),\n",
       " ('blue', 0.6423872113227844),\n",
       " ('stone', 0.6398930549621582),\n",
       " ('rock', 0.6366965770721436)]"
      ]
     },
     "execution_count": 37,
     "metadata": {},
     "output_type": "execute_result"
    }
   ],
   "source": [
    "wv.most_similar('silver')"
   ]
  },
  {
   "cell_type": "code",
   "execution_count": 38,
   "metadata": {},
   "outputs": [
    {
     "data": {
      "text/plain": [
       "[('yellow', 0.8273365497589111),\n",
       " ('pink', 0.8225677609443665),\n",
       " ('gray', 0.7999077439308167),\n",
       " ('orange', 0.7776132822036743),\n",
       " ('red', 0.7762811779975891),\n",
       " ('purple', 0.7591878175735474),\n",
       " ('coat', 0.7511742115020752),\n",
       " ('bright', 0.7443355321884155),\n",
       " ('metal', 0.7438474893569946),\n",
       " ('lipstick', 0.7416648864746094)]"
      ]
     },
     "execution_count": 38,
     "metadata": {},
     "output_type": "execute_result"
    }
   ],
   "source": [
    "wv.most_similar('blue')"
   ]
  },
  {
   "cell_type": "code",
   "execution_count": 39,
   "metadata": {},
   "outputs": [
    {
     "data": {
      "text/plain": [
       "[('Trump', 0.6590725183486938),\n",
       " ('Maduro', 0.6585804224014282),\n",
       " ('Erdogan', 0.6543865203857422),\n",
       " ('Rouhani', 0.654132604598999),\n",
       " ('Macron', 0.6339868307113647),\n",
       " ('Bush', 0.6305160522460938),\n",
       " ('Hollande', 0.6285050511360168),\n",
       " ('Ashraf', 0.6203118562698364),\n",
       " ('Ghani', 0.6073459982872009),\n",
       " ('Netanyahu', 0.603117823600769)]"
      ]
     },
     "execution_count": 39,
     "metadata": {},
     "output_type": "execute_result"
    }
   ],
   "source": [
    "wv.most_similar('Obama')"
   ]
  },
  {
   "cell_type": "code",
   "execution_count": 40,
   "metadata": {},
   "outputs": [
    {
     "data": {
      "text/plain": [
       "[('Erdogan', 0.6952388286590576),\n",
       " ('Bush', 0.6650077700614929),\n",
       " ('Rouhani', 0.6583577990531921),\n",
       " ('Macron', 0.6422613859176636),\n",
       " ('Maduro', 0.6389861106872559),\n",
       " ('Drumpf', 0.628532886505127),\n",
       " ('Netanyahu', 0.6148338913917542),\n",
       " ('Putin', 0.588276207447052),\n",
       " ('Xi', 0.5865577459335327),\n",
       " ('Assad', 0.5860471725463867)]"
      ]
     },
     "execution_count": 40,
     "metadata": {},
     "output_type": "execute_result"
    }
   ],
   "source": [
    "wv.most_similar(['Obama', 'Trump'])"
   ]
  },
  {
   "cell_type": "code",
   "execution_count": 38,
   "metadata": {},
   "outputs": [
    {
     "data": {
      "text/plain": [
       "[('Drumpf', 0.7085047960281372),\n",
       " ('Glover', 0.6547946333885193),\n",
       " ('Sterling', 0.6542804837226868),\n",
       " ('Rumsfeld', 0.6318484544754028),\n",
       " ('Ex-President', 0.621883749961853),\n",
       " ('Erdogan', 0.6171503067016602),\n",
       " ('Trump-Themed', 0.6163948774337769),\n",
       " ('Wack', 0.6152186989784241),\n",
       " ('deliberation', 0.6126050353050232),\n",
       " ('Trump-Joe', 0.6029280424118042)]"
      ]
     },
     "execution_count": 38,
     "metadata": {},
     "output_type": "execute_result"
    }
   ],
   "source": [
    "wv.most_similar('Trump')"
   ]
  },
  {
   "cell_type": "code",
   "execution_count": 39,
   "metadata": {},
   "outputs": [
    {
     "data": {
      "text/plain": [
       "[('Rouhani', 0.6695960760116577),\n",
       " ('Macron', 0.6620060801506042),\n",
       " ('Erdogan', 0.6420088410377502),\n",
       " ('Hollande', 0.6357301473617554),\n",
       " ('Maduro', 0.6251469850540161),\n",
       " ('Conlin', 0.6242589354515076),\n",
       " ('Bush', 0.6190125942230225),\n",
       " ('Kosilek', 0.611344575881958),\n",
       " ('Xi', 0.6071639060974121),\n",
       " ('Ghani', 0.6069828271865845)]"
      ]
     },
     "execution_count": 39,
     "metadata": {},
     "output_type": "execute_result"
    }
   ],
   "source": [
    "wv.most_similar('Obama')"
   ]
  },
  {
   "cell_type": "code",
   "execution_count": 40,
   "metadata": {},
   "outputs": [
    {
     "data": {
      "text/plain": [
       "[('Scarborough', 0.711631178855896),\n",
       " ('Manchin', 0.7064214944839478),\n",
       " ('Arpaio', 0.6504077911376953),\n",
       " ('Isuzu', 0.6503658294677734),\n",
       " ('Manganiello', 0.6328834295272827),\n",
       " ('Trader', 0.6287012696266174),\n",
       " ('Paterno', 0.6213430166244507),\n",
       " ('Bush', 0.6182495951652527),\n",
       " ('Zee', 0.615400493144989),\n",
       " ('G.I', 0.6144809722900391)]"
      ]
     },
     "execution_count": 40,
     "metadata": {},
     "output_type": "execute_result"
    }
   ],
   "source": [
    "wv.most_similar('Biden')"
   ]
  },
  {
   "cell_type": "code",
   "execution_count": 41,
   "metadata": {},
   "outputs": [
    {
     "data": {
      "text/plain": [
       "[('pink', 0.8303629755973816),\n",
       " ('skirt', 0.8216742873191833),\n",
       " ('wig', 0.8208991885185242),\n",
       " ('purple', 0.814971923828125),\n",
       " ('jeans', 0.8141909837722778),\n",
       " ('coat', 0.814116895198822),\n",
       " ('pastel', 0.8125818371772766),\n",
       " ('matching', 0.8104766607284546),\n",
       " ('yellow', 0.8045458793640137),\n",
       " ('shirt', 0.7968711853027344)]"
      ]
     },
     "execution_count": 41,
     "metadata": {},
     "output_type": "execute_result"
    }
   ],
   "source": [
    "wv.most_similar(positive=['leather', 'jacket'])"
   ]
  },
  {
   "cell_type": "code",
   "execution_count": 42,
   "metadata": {},
   "outputs": [
    {
     "data": {
      "text/plain": [
       "[('purple', 0.8489059209823608),\n",
       " ('yellow', 0.8482239246368408),\n",
       " ('lipstick', 0.8415926098823547),\n",
       " ('coat', 0.8343020677566528),\n",
       " ('jeans', 0.8314406275749207),\n",
       " ('orange', 0.8270695209503174),\n",
       " ('pastel', 0.8268184065818787),\n",
       " ('skirt', 0.8246691226959229),\n",
       " ('matching', 0.819297730922699),\n",
       " ('blue', 0.8120771646499634)]"
      ]
     },
     "execution_count": 42,
     "metadata": {},
     "output_type": "execute_result"
    }
   ],
   "source": [
    "wv.most_similar(positive=['pink', 'leather', 'jacket'])"
   ]
  },
  {
   "cell_type": "code",
   "execution_count": 43,
   "metadata": {},
   "outputs": [
    {
     "data": {
      "text/plain": [
       "[('horse', 0.51787930727005),\n",
       " ('plane', 0.4913063049316406),\n",
       " ('soldier', 0.49064987897872925),\n",
       " ('wall', 0.482075035572052),\n",
       " ('bird', 0.4711511433124542),\n",
       " ('driver', 0.4709591865539551),\n",
       " ('tree', 0.4654397964477539),\n",
       " ('ride', 0.46329736709594727),\n",
       " ('package', 0.4584145247936249),\n",
       " ('boy', 0.45487141609191895)]"
      ]
     },
     "execution_count": 43,
     "metadata": {},
     "output_type": "execute_result"
    }
   ],
   "source": [
    "wv.most_similar(positive=['king', 'man'], negative=['queen'])"
   ]
  },
  {
   "cell_type": "code",
   "execution_count": 44,
   "metadata": {},
   "outputs": [
    {
     "data": {
      "text/plain": [
       "[('king', 0.6416208744049072),\n",
       " ('rap', 0.62291419506073),\n",
       " ('genius', 0.6192320585250854),\n",
       " ('cat', 0.6164597868919373),\n",
       " ('princess', 0.6154948472976685),\n",
       " ('song', 0.6105555891990662),\n",
       " ('charm', 0.5975087881088257),\n",
       " ('musician', 0.5956915616989136),\n",
       " ('singing', 0.5923466682434082),\n",
       " ('darling', 0.5911524295806885)]"
      ]
     },
     "execution_count": 44,
     "metadata": {},
     "output_type": "execute_result"
    }
   ],
   "source": [
    "wv.most_similar(positive=['queen', 'man'], negative=['woman'])"
   ]
  },
  {
   "cell_type": "code",
   "execution_count": 45,
   "metadata": {},
   "outputs": [
    {
     "data": {
      "text/plain": [
       "[('man', 0.824468731880188),\n",
       " ('person', 0.7840941548347473),\n",
       " ('girl', 0.7615827322006226),\n",
       " ('teenager', 0.7127897143363953),\n",
       " ('bride', 0.6967326402664185),\n",
       " ('boy', 0.6762069463729858),\n",
       " ('parent', 0.666994035243988),\n",
       " ('mother', 0.6410309076309204),\n",
       " ('nurse', 0.6358234882354736),\n",
       " ('child', 0.6245643496513367)]"
      ]
     },
     "execution_count": 45,
     "metadata": {},
     "output_type": "execute_result"
    }
   ],
   "source": [
    "wv.most_similar(positive=['king', 'woman'], negative=['king'])"
   ]
  },
  {
   "cell_type": "code",
   "execution_count": 46,
   "metadata": {},
   "outputs": [
    {
     "data": {
      "text/plain": [
       "[('man', 0.824468731880188),\n",
       " ('person', 0.7840942144393921),\n",
       " ('girl', 0.7615827322006226),\n",
       " ('teenager', 0.7127897143363953),\n",
       " ('bride', 0.6967325806617737),\n",
       " ('boy', 0.6762069463729858),\n",
       " ('parent', 0.666994035243988),\n",
       " ('mother', 0.6410309076309204),\n",
       " ('nurse', 0.6358234882354736),\n",
       " ('child', 0.6245643496513367)]"
      ]
     },
     "execution_count": 46,
     "metadata": {},
     "output_type": "execute_result"
    }
   ],
   "source": [
    "wv.most_similar('woman')"
   ]
  },
  {
   "cell_type": "code",
   "execution_count": 47,
   "metadata": {},
   "outputs": [
    {
     "data": {
      "text/plain": [
       "[('hijab', 0.620999813079834),\n",
       " ('skirt', 0.5912269949913025),\n",
       " ('panties', 0.5795958042144775),\n",
       " ('uterus', 0.5773028135299683),\n",
       " ('disability', 0.5726682543754578),\n",
       " ('vagina', 0.5688541531562805),\n",
       " ('wheelchair', 0.5683301687240601),\n",
       " ('waist', 0.5654455423355103),\n",
       " ('diaper', 0.5637011528015137),\n",
       " ('bandmate', 0.5635241866111755)]"
      ]
     },
     "execution_count": 47,
     "metadata": {},
     "output_type": "execute_result"
    }
   ],
   "source": [
    "wv.most_similar(positive=['penis', 'woman'], negative=['man'])"
   ]
  }
 ],
 "metadata": {
  "kernelspec": {
   "display_name": "Python 3",
   "language": "python",
   "name": "python3"
  },
  "language_info": {
   "codemirror_mode": {
    "name": "ipython",
    "version": 3
   },
   "file_extension": ".py",
   "mimetype": "text/x-python",
   "name": "python",
   "nbconvert_exporter": "python",
   "pygments_lexer": "ipython3",
   "version": "3.6.9"
  }
 },
 "nbformat": 4,
 "nbformat_minor": 4
}
